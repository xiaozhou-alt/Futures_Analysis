{
 "cells": [
  {
   "cell_type": "markdown",
   "metadata": {},
   "source": [
    "### 以下代码为使用 kaggle 平台的 GPU P100运行的输出\n",
    "### 使用 mineru 将 pdf 文件转化为 md 文件\n",
    "实际也可使用 MinerU 的官方 api 或是软件进行批量转化"
   ]
  },
  {
   "cell_type": "code",
   "execution_count": 1,
   "metadata": {
    "execution": {
     "iopub.execute_input": "2025-06-28T02:18:57.717875Z",
     "iopub.status.busy": "2025-06-28T02:18:57.717218Z",
     "iopub.status.idle": "2025-06-28T02:19:35.256006Z",
     "shell.execute_reply": "2025-06-28T02:19:35.255093Z",
     "shell.execute_reply.started": "2025-06-28T02:18:57.717834Z"
    },
    "trusted": true
   },
   "outputs": [
    {
     "name": "stdout",
     "output_type": "stream",
     "text": [
      "Looking in indexes: https://mirrors.aliyun.com/pypi/simple\n",
      "Requirement already satisfied: pip in /usr/local/lib/python3.11/dist-packages (24.1.2)\n",
      "Collecting pip\n",
      "\u001b[33m  WARNING: Retrying (Retry(total=4, connect=None, read=None, redirect=None, status=None)) after connection broken by 'ReadTimeoutError(\"HTTPSConnectionPool(host='mirrors.aliyun.com', port=443): Read timed out. (read timeout=15)\")': /pypi/packages/29/a2/d40fb2460e883eca5199c62cfc2463fd261f760556ae6290f88488c362c0/pip-25.1.1-py3-none-any.whl\u001b[0m\u001b[33m\n",
      "\u001b[0m  Downloading https://mirrors.aliyun.com/pypi/packages/29/a2/d40fb2460e883eca5199c62cfc2463fd261f760556ae6290f88488c362c0/pip-25.1.1-py3-none-any.whl (1.8 MB)\n",
      "\u001b[2K     \u001b[90m━━━━━━━━━━━━━━━━━━━━━━━━━━━━━━━━━━━━━━━━\u001b[0m \u001b[32m1.8/1.8 MB\u001b[0m \u001b[31m22.2 MB/s\u001b[0m eta \u001b[36m0:00:00\u001b[0m00:01\u001b[0m\n",
      "\u001b[?25hInstalling collected packages: pip\n",
      "  Attempting uninstall: pip\n",
      "    Found existing installation: pip 24.1.2\n",
      "    Uninstalling pip-24.1.2:\n",
      "      Successfully uninstalled pip-24.1.2\n",
      "Successfully installed pip-25.1.1\n",
      "Looking in indexes: https://mirrors.aliyun.com/pypi/simple\n",
      "Collecting uv\n",
      "  Downloading https://mirrors.aliyun.com/pypi/packages/4a/77/82755b46e9b0fa04682c04566fe0ae99bbba5b8525e061e78cbdf84e5666/uv-0.7.16-py3-none-manylinux_2_17_x86_64.manylinux2014_x86_64.whl (18.4 MB)\n",
      "\u001b[2K     \u001b[90m━━━━━━━━━━━━━━━━━━━━━━━━━━━━━━━━━━━━━━━━\u001b[0m \u001b[32m18.4/18.4 MB\u001b[0m \u001b[31m5.6 MB/s\u001b[0m eta \u001b[36m0:00:00\u001b[0m00:01\u001b[0m00:01\u001b[0mm\n",
      "\u001b[?25hInstalling collected packages: uv\n",
      "Successfully installed uv-0.7.16\n"
     ]
    }
   ],
   "source": [
    "!pip install --upgrade pip -i https://mirrors.aliyun.com/pypi/simple\n",
    "!pip install uv -i https://mirrors.aliyun.com/pypi/simple"
   ]
  },
  {
   "cell_type": "code",
   "execution_count": 3,
   "metadata": {
    "execution": {
     "iopub.execute_input": "2025-06-28T02:32:27.769712Z",
     "iopub.status.busy": "2025-06-28T02:32:27.769458Z",
     "iopub.status.idle": "2025-06-28T02:32:28.054292Z",
     "shell.execute_reply": "2025-06-28T02:32:28.053389Z",
     "shell.execute_reply.started": "2025-06-28T02:32:27.769688Z"
    },
    "trusted": true
   },
   "outputs": [
    {
     "name": "stdout",
     "output_type": "stream",
     "text": [
      "\u001b[2mUsing Python 3.11.11 environment at: /usr\u001b[0m\n",
      "\u001b[2mAudited \u001b[1m1 package\u001b[0m \u001b[2min 157ms\u001b[0m\u001b[0m\n"
     ]
    }
   ],
   "source": [
    "!uv pip install mineru[all] -i https://pypi.tuna.tsinghua.edu.cn/simple"
   ]
  },
  {
   "cell_type": "code",
   "execution_count": 4,
   "metadata": {
    "execution": {
     "iopub.execute_input": "2025-06-28T02:32:35.237547Z",
     "iopub.status.busy": "2025-06-28T02:32:35.237272Z",
     "iopub.status.idle": "2025-06-28T02:33:10.493781Z",
     "shell.execute_reply": "2025-06-28T02:33:10.493085Z",
     "shell.execute_reply.started": "2025-06-28T02:32:35.237521Z"
    },
    "trusted": true
   },
   "outputs": [
    {
     "name": "stdout",
     "output_type": "stream",
     "text": [
      "2025-06-28 02:32:48.576700: E external/local_xla/xla/stream_executor/cuda/cuda_fft.cc:477] Unable to register cuFFT factory: Attempting to register factory for plugin cuFFT when one has already been registered\n",
      "WARNING: All log messages before absl::InitializeLog() is called are written to STDERR\n",
      "E0000 00:00:1751077968.771392     127 cuda_dnn.cc:8310] Unable to register cuDNN factory: Attempting to register factory for plugin cuDNN when one has already been registered\n",
      "E0000 00:00:1751077968.831880     127 cuda_blas.cc:1418] Unable to register cuBLAS factory: Attempting to register factory for plugin cuBLAS when one has already been registered\n",
      "mineru, version 2.0.6\n"
     ]
    }
   ],
   "source": [
    "!mineru --version"
   ]
  },
  {
   "cell_type": "code",
   "execution_count": null,
   "metadata": {},
   "outputs": [],
   "source": [
    "import argparse\n",
    "import os\n",
    "import subprocess\n",
    "from pathlib import Path\n",
    "import shutil\n",
    "from tqdm import tqdm\n",
    "\n",
    "def convert_pdf_to_md(input_pdf, output_dir):\n",
    "    try:\n",
    "        cmd = [\n",
    "        \"mineru\",\n",
    "        \"-p\", str(input_pdf),\n",
    "        \"-o\", output_dir,\n",
    "        \"--method\", \"auto\",\n",
    "        \"--device\", \"cuda\",\n",
    "        \"--ocr-mode\", \"fast\",    # 保留有效加速参数[6](@ref)\n",
    "        \"--dpi\", \"150\",           # 降低分辨率提速\n",
    "        \"--parallel\", \"4\"         # 页面级并行\n",
    "        ]\n",
    "        subprocess.run(cmd, check=True)\n",
    "        return True\n",
    "    except Exception as e:\n",
    "        print(f\"❌ 转换失败: {input_pdf} - {str(e)}\")\n",
    "        return False\n",
    "\n",
    "def process_directory(input_dir, output_base_dir):\n",
    "    pdf_files = []\n",
    "    for root, _, files in os.walk(input_dir):\n",
    "        for file in files:\n",
    "            if file.lower().endswith('.pdf'):\n",
    "                pdf_files.append(Path(root) / file)\n",
    "    \n",
    "    with tqdm(total=len(pdf_files), desc=\"转换PDF\", unit=\"file\") as pbar:\n",
    "        for pdf_path in pdf_files:\n",
    "            rel_path = pdf_path.relative_to(input_dir)\n",
    "            # 核心修改：输出目录 = 原PDF所在目录（保持路径不变）\n",
    "            output_dir = Path(output_base_dir) / rel_path.parent\n",
    "            output_dir.mkdir(parents=True, exist_ok=True)\n",
    "            \n",
    "            pbar.set_postfix(file=str(rel_path)[:30] + \"...\")\n",
    "            if convert_pdf_to_md(pdf_path, str(output_dir)):\n",
    "                # 清理非目标文件\n",
    "                for item in output_dir.iterdir():\n",
    "                    if item.is_file() and item.suffix != \".md\":\n",
    "                        item.unlink()\n",
    "                    elif item.is_dir() and item.name != \"img\":\n",
    "                        shutil.rmtree(item)\n",
    "                print(f\"✓ 转换成功: {rel_path}\")\n",
    "            pbar.update(1)\n",
    "\n",
    "# ====================== 参数设置部分 ======================\n",
    "def main(input_dir=None, output_dir=None):\n",
    "    # 1. 修复路径格式（删除双斜杠）\n",
    "    DEFAULT_INPUT = \"/kaggle/input/economy-data/output_renamed\"\n",
    "    DEFAULT_OUTPUT = \"/kaggle/working/output\"  # 修正路径\n",
    "\n",
    "    # 2. 修改参数解析逻辑（关键修复）\n",
    "    parser = argparse.ArgumentParser(\n",
    "        description=\"批量转换PDF为Markdown\",\n",
    "        allow_abbrev=False  # 禁止缩写参数[6](@ref)\n",
    "    )\n",
    "    parser.add_argument(\"-i\", \"--input\", help=\"PDF输入目录\")\n",
    "    parser.add_argument(\"-o\", \"--output\", help=\"Markdown输出目录\")\n",
    "    \n",
    "    # 使用parse_known_args()忽略未定义参数[6,8](@ref)\n",
    "    args, unknown = parser.parse_known_args()  # 忽略Colab自动传递的-f参数\n",
    "    \n",
    "    # 3. 最终参数确定\n",
    "    final_input = args.input or input_dir or DEFAULT_INPUT\n",
    "    final_output = args.output or output_dir or DEFAULT_OUTPUT\n",
    "\n",
    "    print(f\"忽略未识别参数: {unknown}\")  # 打印被忽略的参数[4](@ref)\n",
    "    print(f\"输入目录: {final_input}\")\n",
    "    print(f\"输出目录: {final_output}\")\n",
    "    process_directory(final_input, final_output)\n",
    "\n",
    "if __name__ == \"__main__\":\n",
    "    # 示例：直接在代码中设置参数（取消注释即可使用）\n",
    "    # main(input_dir=\"/my/custom/input\", output_dir=\"/my/custom/output\")\n",
    "    \n",
    "    # 保留命令行调用功能\n",
    "    main()"
   ]
  }
 ],
 "metadata": {
  "kaggle": {
   "accelerator": "gpu",
   "dataSources": [
    {
     "datasetId": 7754939,
     "sourceId": 12303370,
     "sourceType": "datasetVersion"
    },
    {
     "modelId": 387034,
     "modelInstanceId": 366140,
     "sourceId": 451305,
     "sourceType": "modelInstanceVersion"
    }
   ],
   "dockerImageVersionId": 31041,
   "isGpuEnabled": true,
   "isInternetEnabled": true,
   "language": "python",
   "sourceType": "notebook"
  },
  "kernelspec": {
   "display_name": "base",
   "language": "python",
   "name": "python3"
  },
  "language_info": {
   "codemirror_mode": {
    "name": "ipython",
    "version": 3
   },
   "file_extension": ".py",
   "mimetype": "text/x-python",
   "name": "python",
   "nbconvert_exporter": "python",
   "pygments_lexer": "ipython3",
   "version": "3.7.0"
  }
 },
 "nbformat": 4,
 "nbformat_minor": 4
}
